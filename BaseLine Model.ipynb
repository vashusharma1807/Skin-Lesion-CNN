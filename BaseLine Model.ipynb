{
 "cells": [
  {
   "cell_type": "code",
   "execution_count": 1,
   "id": "193a7c0d",
   "metadata": {},
   "outputs": [],
   "source": [
    "import numpy as np\n",
    "import pandas as pd\n",
    "from sklearn.model_selection import train_test_split\n",
    "from keras.utils.np_utils import to_categorical # convert to one-hot-encoding\n",
    "\n",
    "from tensorflow.keras.preprocessing.image import ImageDataGenerator\n",
    "from tensorflow.keras import layers\n",
    "from tensorflow.keras import Model\n",
    "from tensorflow.keras.models import Sequential\n",
    "\n",
    "from tensorflow.keras.optimizers import Adam\n",
    "from tensorflow.keras.callbacks import ReduceLROnPlateau\n",
    "%matplotlib inline\n",
    "\n",
    "import matplotlib.pyplot as plt"
   ]
  },
  {
   "cell_type": "code",
   "execution_count": 2,
   "id": "85e11795",
   "metadata": {},
   "outputs": [],
   "source": [
    "base_dataset_dir = \"E:\\Major Project 2022\\Dataset\"\n",
    "csv_path = base_dataset_dir+\"\\\\\"+\"64by64_Dataset_RBG.csv\""
   ]
  },
  {
   "cell_type": "code",
   "execution_count": 3,
   "id": "045a75f7",
   "metadata": {},
   "outputs": [
    {
     "data": {
      "text/html": [
       "<div>\n",
       "<style scoped>\n",
       "    .dataframe tbody tr th:only-of-type {\n",
       "        vertical-align: middle;\n",
       "    }\n",
       "\n",
       "    .dataframe tbody tr th {\n",
       "        vertical-align: top;\n",
       "    }\n",
       "\n",
       "    .dataframe thead th {\n",
       "        text-align: right;\n",
       "    }\n",
       "</style>\n",
       "<table border=\"1\" class=\"dataframe\">\n",
       "  <thead>\n",
       "    <tr style=\"text-align: right;\">\n",
       "      <th></th>\n",
       "      <th>0</th>\n",
       "      <th>1</th>\n",
       "      <th>2</th>\n",
       "      <th>3</th>\n",
       "      <th>4</th>\n",
       "      <th>5</th>\n",
       "      <th>6</th>\n",
       "      <th>7</th>\n",
       "      <th>8</th>\n",
       "      <th>9</th>\n",
       "      <th>...</th>\n",
       "      <th>12279</th>\n",
       "      <th>12280</th>\n",
       "      <th>12281</th>\n",
       "      <th>12282</th>\n",
       "      <th>12283</th>\n",
       "      <th>12284</th>\n",
       "      <th>12285</th>\n",
       "      <th>12286</th>\n",
       "      <th>12287</th>\n",
       "      <th>Label</th>\n",
       "    </tr>\n",
       "  </thead>\n",
       "  <tbody>\n",
       "    <tr>\n",
       "      <th>8839</th>\n",
       "      <td>6</td>\n",
       "      <td>1</td>\n",
       "      <td>22</td>\n",
       "      <td>6</td>\n",
       "      <td>1</td>\n",
       "      <td>20</td>\n",
       "      <td>6</td>\n",
       "      <td>1</td>\n",
       "      <td>21</td>\n",
       "      <td>6</td>\n",
       "      <td>...</td>\n",
       "      <td>62</td>\n",
       "      <td>49</td>\n",
       "      <td>83</td>\n",
       "      <td>55</td>\n",
       "      <td>45</td>\n",
       "      <td>74</td>\n",
       "      <td>55</td>\n",
       "      <td>53</td>\n",
       "      <td>88</td>\n",
       "      <td>4</td>\n",
       "    </tr>\n",
       "    <tr>\n",
       "      <th>1035</th>\n",
       "      <td>14</td>\n",
       "      <td>7</td>\n",
       "      <td>11</td>\n",
       "      <td>19</td>\n",
       "      <td>10</td>\n",
       "      <td>11</td>\n",
       "      <td>23</td>\n",
       "      <td>13</td>\n",
       "      <td>14</td>\n",
       "      <td>53</td>\n",
       "      <td>...</td>\n",
       "      <td>124</td>\n",
       "      <td>103</td>\n",
       "      <td>112</td>\n",
       "      <td>101</td>\n",
       "      <td>84</td>\n",
       "      <td>92</td>\n",
       "      <td>97</td>\n",
       "      <td>77</td>\n",
       "      <td>84</td>\n",
       "      <td>1</td>\n",
       "    </tr>\n",
       "    <tr>\n",
       "      <th>4992</th>\n",
       "      <td>0</td>\n",
       "      <td>1</td>\n",
       "      <td>5</td>\n",
       "      <td>0</td>\n",
       "      <td>1</td>\n",
       "      <td>5</td>\n",
       "      <td>0</td>\n",
       "      <td>1</td>\n",
       "      <td>6</td>\n",
       "      <td>0</td>\n",
       "      <td>...</td>\n",
       "      <td>194</td>\n",
       "      <td>169</td>\n",
       "      <td>151</td>\n",
       "      <td>196</td>\n",
       "      <td>174</td>\n",
       "      <td>160</td>\n",
       "      <td>193</td>\n",
       "      <td>164</td>\n",
       "      <td>144</td>\n",
       "      <td>2</td>\n",
       "    </tr>\n",
       "    <tr>\n",
       "      <th>5506</th>\n",
       "      <td>146</td>\n",
       "      <td>87</td>\n",
       "      <td>86</td>\n",
       "      <td>142</td>\n",
       "      <td>88</td>\n",
       "      <td>88</td>\n",
       "      <td>138</td>\n",
       "      <td>85</td>\n",
       "      <td>84</td>\n",
       "      <td>133</td>\n",
       "      <td>...</td>\n",
       "      <td>133</td>\n",
       "      <td>89</td>\n",
       "      <td>78</td>\n",
       "      <td>135</td>\n",
       "      <td>90</td>\n",
       "      <td>80</td>\n",
       "      <td>136</td>\n",
       "      <td>90</td>\n",
       "      <td>81</td>\n",
       "      <td>2</td>\n",
       "    </tr>\n",
       "    <tr>\n",
       "      <th>469</th>\n",
       "      <td>138</td>\n",
       "      <td>111</td>\n",
       "      <td>99</td>\n",
       "      <td>140</td>\n",
       "      <td>110</td>\n",
       "      <td>97</td>\n",
       "      <td>139</td>\n",
       "      <td>110</td>\n",
       "      <td>96</td>\n",
       "      <td>142</td>\n",
       "      <td>...</td>\n",
       "      <td>16</td>\n",
       "      <td>8</td>\n",
       "      <td>5</td>\n",
       "      <td>13</td>\n",
       "      <td>6</td>\n",
       "      <td>3</td>\n",
       "      <td>11</td>\n",
       "      <td>6</td>\n",
       "      <td>3</td>\n",
       "      <td>0</td>\n",
       "    </tr>\n",
       "  </tbody>\n",
       "</table>\n",
       "<p>5 rows × 12289 columns</p>\n",
       "</div>"
      ],
      "text/plain": [
       "        0    1   2    3    4   5    6    7   8    9  ...  12279  12280  12281  \\\n",
       "8839    6    1  22    6    1  20    6    1  21    6  ...     62     49     83   \n",
       "1035   14    7  11   19   10  11   23   13  14   53  ...    124    103    112   \n",
       "4992    0    1   5    0    1   5    0    1   6    0  ...    194    169    151   \n",
       "5506  146   87  86  142   88  88  138   85  84  133  ...    133     89     78   \n",
       "469   138  111  99  140  110  97  139  110  96  142  ...     16      8      5   \n",
       "\n",
       "      12282  12283  12284  12285  12286  12287  Label  \n",
       "8839     55     45     74     55     53     88      4  \n",
       "1035    101     84     92     97     77     84      1  \n",
       "4992    196    174    160    193    164    144      2  \n",
       "5506    135     90     80    136     90     81      2  \n",
       "469      13      6      3     11      6      3      0  \n",
       "\n",
       "[5 rows x 12289 columns]"
      ]
     },
     "execution_count": 3,
     "metadata": {},
     "output_type": "execute_result"
    }
   ],
   "source": [
    "image_df = pd.read_csv(csv_path)\n",
    "\n",
    "image_df.sample(5)"
   ]
  },
  {
   "cell_type": "code",
   "execution_count": 4,
   "id": "f8474a41",
   "metadata": {},
   "outputs": [
    {
     "data": {
      "text/plain": [
       "((16431, 12288), (16431,))"
      ]
     },
     "execution_count": 4,
     "metadata": {},
     "output_type": "execute_result"
    }
   ],
   "source": [
    "image_df_copy = image_df.copy()\n",
    "\n",
    "label = image_df_copy.pop(\"Label\")\n",
    "\n",
    "X = np.array(image_df_copy)\n",
    "\n",
    "X.shape , label.shape"
   ]
  },
  {
   "cell_type": "markdown",
   "id": "aca55f2a",
   "metadata": {},
   "source": [
    "\n",
    "Scaling and Split Data into Train, Validation and Test set\n"
   ]
  },
  {
   "cell_type": "code",
   "execution_count": 5,
   "id": "d83f4dba",
   "metadata": {},
   "outputs": [],
   "source": [
    "X_mean = np.mean(X)\n",
    "X_std = np.std(X)\n",
    "\n",
    "X = (X - X_mean)/X_std"
   ]
  },
  {
   "cell_type": "code",
   "execution_count": 6,
   "id": "86435f74",
   "metadata": {},
   "outputs": [
    {
     "data": {
      "text/plain": [
       "((11829, 12288), (2958, 12288), (1644, 12288), (11829,), (2958,), (1644,))"
      ]
     },
     "execution_count": 6,
     "metadata": {},
     "output_type": "execute_result"
    }
   ],
   "source": [
    "X_train_orig, X_test, y_train_orig, y_test = train_test_split(X, label, test_size=0.1,random_state=0)\n",
    "\n",
    "X_train, X_val, y_train, y_val = train_test_split(X_train_orig, y_train_orig, test_size=0.2, random_state=1)\n",
    "\n",
    "X_train.shape, X_val.shape, X_test.shape, y_train.shape, y_val.shape, y_test.shape"
   ]
  },
  {
   "cell_type": "markdown",
   "id": "085a9a0f",
   "metadata": {},
   "source": [
    "\n",
    "Reshape\n"
   ]
  },
  {
   "cell_type": "code",
   "execution_count": 7,
   "id": "07b50ac9",
   "metadata": {},
   "outputs": [
    {
     "data": {
      "text/plain": [
       "((11829, 64, 64, 3), (2958, 64, 64, 3), (1644, 64, 64, 3))"
      ]
     },
     "execution_count": 7,
     "metadata": {},
     "output_type": "execute_result"
    }
   ],
   "source": [
    "X_train = X_train.reshape(X_train.shape[0], *(64, 64, 3))\n",
    "X_val = X_val.reshape(X_val.shape[0], *(64, 64, 3))\n",
    "X_test = X_test.reshape(X_test.shape[0], *(64, 64, 3))\n",
    "\n",
    "X_train.shape, X_val.shape, X_test.shape"
   ]
  },
  {
   "cell_type": "code",
   "execution_count": 8,
   "id": "31e75e9e",
   "metadata": {},
   "outputs": [
    {
     "data": {
      "text/plain": [
       "((11829, 8), (2958, 8), (1644, 8))"
      ]
     },
     "execution_count": 8,
     "metadata": {},
     "output_type": "execute_result"
    }
   ],
   "source": [
    "y_train = to_categorical(y_train)\n",
    "y_val = to_categorical(y_val)\n",
    "y_test = to_categorical(y_test)\n",
    "\n",
    "y_train.shape, y_val.shape, y_test.shape"
   ]
  },
  {
   "cell_type": "markdown",
   "id": "90c6189c",
   "metadata": {},
   "source": [
    "# # CNN Model using Tensorflow"
   ]
  },
  {
   "cell_type": "code",
   "execution_count": 15,
   "id": "f20c4a77",
   "metadata": {},
   "outputs": [
    {
     "name": "stdout",
     "output_type": "stream",
     "text": [
      "Model: \"sequential_1\"\n",
      "_________________________________________________________________\n",
      " Layer (type)                Output Shape              Param #   \n",
      "=================================================================\n",
      " conv2d_6 (Conv2D)           (None, 64, 64, 32)        896       \n",
      "                                                                 \n",
      " batch_normalization_3 (Batc  (None, 64, 64, 32)       128       \n",
      " hNormalization)                                                 \n",
      "                                                                 \n",
      " conv2d_7 (Conv2D)           (None, 62, 62, 32)        9248      \n",
      "                                                                 \n",
      " max_pooling2d_3 (MaxPooling  (None, 31, 31, 32)       0         \n",
      " 2D)                                                             \n",
      "                                                                 \n",
      " dropout_3 (Dropout)         (None, 31, 31, 32)        0         \n",
      "                                                                 \n",
      " conv2d_8 (Conv2D)           (None, 31, 31, 64)        18496     \n",
      "                                                                 \n",
      " batch_normalization_4 (Batc  (None, 31, 31, 64)       256       \n",
      " hNormalization)                                                 \n",
      "                                                                 \n",
      " conv2d_9 (Conv2D)           (None, 29, 29, 64)        36928     \n",
      "                                                                 \n",
      " max_pooling2d_4 (MaxPooling  (None, 14, 14, 64)       0         \n",
      " 2D)                                                             \n",
      "                                                                 \n",
      " dropout_4 (Dropout)         (None, 14, 14, 64)        0         \n",
      "                                                                 \n",
      " conv2d_10 (Conv2D)          (None, 14, 14, 128)       73856     \n",
      "                                                                 \n",
      " batch_normalization_5 (Batc  (None, 14, 14, 128)      512       \n",
      " hNormalization)                                                 \n",
      "                                                                 \n",
      " conv2d_11 (Conv2D)          (None, 12, 12, 128)       147584    \n",
      "                                                                 \n",
      " max_pooling2d_5 (MaxPooling  (None, 6, 6, 128)        0         \n",
      " 2D)                                                             \n",
      "                                                                 \n",
      " dropout_5 (Dropout)         (None, 6, 6, 128)         0         \n",
      "                                                                 \n",
      " flatten_1 (Flatten)         (None, 4608)              0         \n",
      "                                                                 \n",
      " dense_1 (Dense)             (None, 8)                 36872     \n",
      "                                                                 \n",
      "=================================================================\n",
      "Total params: 324,776\n",
      "Trainable params: 324,328\n",
      "Non-trainable params: 448\n",
      "_________________________________________________________________\n"
     ]
    }
   ],
   "source": [
    "import tensorflow as tf\n",
    "from tensorflow.keras.layers import Conv2D, MaxPooling2D, BatchNormalization\n",
    "from tensorflow.keras.layers import Dropout, Flatten, Input, Dense\n",
    "\n",
    "def create_model():\n",
    "    def add_conv_block(model, num_filters):\n",
    "        model.add(Conv2D(num_filters, 3, activation = 'relu', padding = 'same'))\n",
    "        model.add(BatchNormalization())\n",
    "        model.add(Conv2D(num_filters, 3, activation = 'relu'))\n",
    "        model.add(MaxPooling2D(pool_size = 2))\n",
    "        model.add(Dropout(0.5))\n",
    "        return model\n",
    "    \n",
    "    model = tf.keras.models.Sequential()\n",
    "    model.add(Input(shape = (64, 64, 3))) # Check -- its not input()-- Input() is used to instantiate a Keras tensor\n",
    "\n",
    "    model = add_conv_block(model, 32)\n",
    "    model = add_conv_block(model, 64)\n",
    "    model = add_conv_block(model, 128)\n",
    "\n",
    "    model.add(Flatten())\n",
    "    model.add(Dense(8 , activation = 'softmax'))\n",
    "\n",
    "    model.compile(\n",
    "        loss='categorical_crossentropy', \n",
    "        optimizer = 'adam', \n",
    "        metrics = ['accuracy']\n",
    "        )\n",
    "\n",
    "    return model\n",
    "\n",
    "model = create_model()\n",
    "model.summary()"
   ]
  },
  {
   "cell_type": "code",
   "execution_count": 16,
   "id": "8fceb8a7",
   "metadata": {},
   "outputs": [
    {
     "name": "stdout",
     "output_type": "stream",
     "text": [
      "Epoch 1/30\n",
      "185/185 [==============================] - 229s 907ms/step - loss: 2.2849 - accuracy: 0.2649 - val_loss: 2.0336 - val_accuracy: 0.2397\n",
      "Epoch 2/30\n",
      "185/185 [==============================] - 147s 794ms/step - loss: 1.8480 - accuracy: 0.3190 - val_loss: 2.1187 - val_accuracy: 0.2397\n",
      "Epoch 3/30\n",
      "185/185 [==============================] - 149s 804ms/step - loss: 1.7960 - accuracy: 0.3431 - val_loss: 1.9348 - val_accuracy: 0.2410\n",
      "Epoch 4/30\n",
      "185/185 [==============================] - 155s 834ms/step - loss: 1.7539 - accuracy: 0.3557 - val_loss: 1.8315 - val_accuracy: 0.3144\n",
      "Epoch 5/30\n",
      "185/185 [==============================] - 149s 806ms/step - loss: 1.7166 - accuracy: 0.3775 - val_loss: 1.7497 - val_accuracy: 0.3563\n",
      "Epoch 6/30\n",
      "185/185 [==============================] - 148s 798ms/step - loss: 1.6859 - accuracy: 0.3865 - val_loss: 1.6999 - val_accuracy: 0.3807\n",
      "Epoch 7/30\n",
      "185/185 [==============================] - 149s 807ms/step - loss: 1.6726 - accuracy: 0.3951 - val_loss: 1.7143 - val_accuracy: 0.3725\n",
      "Epoch 8/30\n",
      "185/185 [==============================] - 150s 809ms/step - loss: 1.6462 - accuracy: 0.3994 - val_loss: 1.6899 - val_accuracy: 0.3888\n",
      "Epoch 9/30\n",
      "185/185 [==============================] - 150s 809ms/step - loss: 1.6192 - accuracy: 0.4087 - val_loss: 1.6361 - val_accuracy: 0.4047\n",
      "Epoch 10/30\n",
      "185/185 [==============================] - 149s 806ms/step - loss: 1.6088 - accuracy: 0.4147 - val_loss: 1.6223 - val_accuracy: 0.4114\n",
      "Epoch 11/30\n",
      "185/185 [==============================] - 157s 847ms/step - loss: 1.5725 - accuracy: 0.4311 - val_loss: 1.6324 - val_accuracy: 0.4026\n",
      "Epoch 12/30\n",
      "185/185 [==============================] - 200s 1s/step - loss: 1.5555 - accuracy: 0.4331 - val_loss: 1.6055 - val_accuracy: 0.4151\n",
      "Epoch 13/30\n",
      "185/185 [==============================] - 200s 1s/step - loss: 1.5361 - accuracy: 0.4446 - val_loss: 1.6091 - val_accuracy: 0.4091\n",
      "Epoch 14/30\n",
      "185/185 [==============================] - 199s 1s/step - loss: 1.5226 - accuracy: 0.4454 - val_loss: 1.6141 - val_accuracy: 0.4317\n",
      "Epoch 15/30\n",
      "185/185 [==============================] - 200s 1s/step - loss: 1.4963 - accuracy: 0.4500 - val_loss: 1.6009 - val_accuracy: 0.4337\n",
      "Epoch 16/30\n",
      "185/185 [==============================] - 202s 1s/step - loss: 1.4782 - accuracy: 0.4650 - val_loss: 1.5949 - val_accuracy: 0.4354\n",
      "Epoch 17/30\n",
      "185/185 [==============================] - 201s 1s/step - loss: 1.4512 - accuracy: 0.4735 - val_loss: 1.5802 - val_accuracy: 0.4368\n",
      "Epoch 18/30\n",
      "185/185 [==============================] - 201s 1s/step - loss: 1.4430 - accuracy: 0.4790 - val_loss: 1.6017 - val_accuracy: 0.4314\n",
      "Epoch 19/30\n",
      "185/185 [==============================] - 200s 1s/step - loss: 1.4284 - accuracy: 0.4829 - val_loss: 1.6216 - val_accuracy: 0.4148\n",
      "Epoch 20/30\n",
      "185/185 [==============================] - 199s 1s/step - loss: 1.4051 - accuracy: 0.4927 - val_loss: 1.6171 - val_accuracy: 0.4263\n"
     ]
    }
   ],
   "source": [
    "h = model.fit(\n",
    "    X_train/225., y_train,\n",
    "    validation_data = (X_val/225., y_val),\n",
    "    epochs = 30, batch_size = 64,\n",
    "    callbacks = [\n",
    "                 tf.keras.callbacks.EarlyStopping(monitor='val_accuracy', patience= 3),\n",
    "                 tf.keras.callbacks.ModelCheckpoint(\n",
    "                     '/content/models/model_{val_accuracy:.3f}.h5', save_best_only = True,\n",
    "                      save_weights_only = False, moniter = 'val_accuracy'\n",
    "                                                    )\n",
    "                 ]\n",
    "              )"
   ]
  },
  {
   "cell_type": "code",
   "execution_count": 18,
   "id": "f9b9ce41",
   "metadata": {},
   "outputs": [
    {
     "name": "stdout",
     "output_type": "stream",
     "text": [
      "52/52 [==============================] - 7s 125ms/step - loss: 686.5786 - accuracy: 0.1910\n",
      "93/93 [==============================] - 12s 128ms/step - loss: 711.9855 - accuracy: 0.1924\n",
      "Validation: accuracy = 0.192360  ;  loss_v = 711.985535\n",
      "Test: accuracy = 0.190998  ;  loss = 686.578613\n"
     ]
    }
   ],
   "source": [
    "loss_test, acc_test = model.evaluate(X_test, y_test, verbose=1)\n",
    "loss_val, acc_val = model.evaluate(X_val, y_val, verbose=1)\n",
    "print(\"Validation: accuracy = %f  ;  loss_v = %f\" % (acc_val, loss_val))\n",
    "print(\"Test: accuracy = %f  ;  loss = %f\" % (acc_test, loss_test))\n",
    "model.save(\"Baseline_model_1.h5\")"
   ]
  },
  {
   "cell_type": "code",
   "execution_count": 25,
   "id": "784976a1",
   "metadata": {},
   "outputs": [
    {
     "data": {
      "text/plain": [
       "Text(0.5, 1.0, 'Training and validation loss')"
      ]
     },
     "execution_count": 25,
     "metadata": {},
     "output_type": "execute_result"
    },
    {
     "data": {
      "image/png": "[encoded data removed]",
      "text/plain": [
       "<Figure size 432x288 with 1 Axes>"
      ]
     },
     "metadata": {
      "needs_background": "light"
     },
     "output_type": "display_data"
    },
    {
     "data": {
      "image/png": "[encoded data removed]",
      "text/plain": [
       "<Figure size 432x288 with 1 Axes>"
      ]
     },
     "metadata": {
      "needs_background": "light"
     },
     "output_type": "display_data"
    }
   ],
   "source": [
    "# Retrieve a list of accuracy results on training and test data\n",
    "# sets for each training epoch\n",
    "acc = h.history['accuracy']\n",
    "val_acc = h.history['val_accuracy']\n",
    "\n",
    "# Retrieve a list of list results on training and test data\n",
    "# sets for each training epoch\n",
    "loss = h.history['loss']\n",
    "val_loss = h.history['val_loss']\n",
    "\n",
    "# Get number of epochs\n",
    "epochs = range(len(acc))\n",
    "\n",
    "# Plot training and validation accuracy per epoch\n",
    "plt.plot(epochs, acc , label = 'Training')\n",
    "plt.plot(epochs, val_acc , label = 'Validation')\n",
    "plt.title('Training and validation accuracy')\n",
    "\n",
    "plt.figure()\n",
    "\n",
    "# Plot training and validation loss per epoch\n",
    "plt.plot(epochs, loss , label = 'Training Loss')\n",
    "plt.plot(epochs, val_loss , label = 'Validation Loss')\n",
    "plt.title('Training and validation loss')"
   ]
  },
  {
   "cell_type": "markdown",
   "id": "f8ab5ec7",
   "metadata": {},
   "source": [
    "\n",
    "# Model 2 \n"
   ]
  },
  {
   "cell_type": "code",
   "execution_count": 26,
   "id": "73290f07",
   "metadata": {},
   "outputs": [
    {
     "name": "stderr",
     "output_type": "stream",
     "text": [
      "C:\\Users\\DELL\\anaconda3\\lib\\site-packages\\keras\\optimizer_v2\\adam.py:105: UserWarning: The `lr` argument is deprecated, use `learning_rate` instead.\n",
      "  super(Adam, self).__init__(name, **kwargs)\n"
     ]
    },
    {
     "name": "stdout",
     "output_type": "stream",
     "text": [
      "Model: \"model\"\n",
      "_________________________________________________________________\n",
      " Layer (type)                Output Shape              Param #   \n",
      "=================================================================\n",
      " input_3 (InputLayer)        [(None, 64, 64, 3)]       0         \n",
      "                                                                 \n",
      " conv2d_12 (Conv2D)          (None, 64, 64, 16)        448       \n",
      "                                                                 \n",
      " max_pooling2d_6 (MaxPooling  (None, 32, 32, 16)       0         \n",
      " 2D)                                                             \n",
      "                                                                 \n",
      " conv2d_13 (Conv2D)          (None, 32, 32, 32)        4640      \n",
      "                                                                 \n",
      " max_pooling2d_7 (MaxPooling  (None, 16, 16, 32)       0         \n",
      " 2D)                                                             \n",
      "                                                                 \n",
      " conv2d_14 (Conv2D)          (None, 16, 16, 64)        18496     \n",
      "                                                                 \n",
      " max_pooling2d_8 (MaxPooling  (None, 8, 8, 64)         0         \n",
      " 2D)                                                             \n",
      "                                                                 \n",
      " flatten_2 (Flatten)         (None, 4096)              0         \n",
      "                                                                 \n",
      " dense_2 (Dense)             (None, 512)               2097664   \n",
      "                                                                 \n",
      " dropout_6 (Dropout)         (None, 512)               0         \n",
      "                                                                 \n",
      " dense_3 (Dense)             (None, 8)                 4104      \n",
      "                                                                 \n",
      "=================================================================\n",
      "Total params: 2,125,352\n",
      "Trainable params: 2,125,352\n",
      "Non-trainable params: 0\n",
      "_________________________________________________________________\n"
     ]
    }
   ],
   "source": [
    "# Our input feature map is 64x64x3: 64x64 for the image pixels, and 3 for\n",
    "# the three color channels: R, G, and B\n",
    "img_input = layers.Input(shape=(64, 64, 3))\n",
    "\n",
    "# First convolution extracts 16 filters that are 3x3\n",
    "# Convolution is followed by max-pooling layer with a 2x2 window\n",
    "x = layers.Conv2D(16, 3, activation='relu', padding='same')(img_input)\n",
    "x = layers.MaxPooling2D(2)(x)\n",
    "\n",
    "# Second convolution extracts 32 filters that are 3x3\n",
    "# Convolution is followed by max-pooling layer with a 2x2 window\n",
    "x = layers.Conv2D(32, 3, activation='relu', padding='same')(x)\n",
    "x = layers.MaxPooling2D(2)(x)\n",
    "\n",
    "# Third convolution extracts 64 filters that are 3x3\n",
    "# Convolution is followed by max-pooling layer with a 2x2 window\n",
    "x = layers.Convolution2D(64, 3, activation='relu', padding='same')(x)\n",
    "x = layers.MaxPooling2D(2)(x)\n",
    "\n",
    "# Flatten feature map to a 1-dim tensor\n",
    "x = layers.Flatten()(x)\n",
    "\n",
    "# Create a fully connected layer with ReLU activation and 512 hidden units\n",
    "x = layers.Dense(512, activation='relu')(x)\n",
    "\n",
    "# Add a dropout rate of 0.5\n",
    "x = layers.Dropout(0.5)(x)\n",
    "\n",
    "# Create output layer with a single node and sigmoid activation\n",
    "output = layers.Dense(8, activation='softmax')(x)\n",
    "\n",
    "# Configure and compile the model\n",
    "model_2 = Model(img_input, output)\n",
    "\n",
    "optimizer = Adam(lr=0.001, beta_1=0.9, beta_2=0.999, epsilon=None, decay=0.0, amsgrad=False)\n",
    "\n",
    "model_2.compile(loss='categorical_crossentropy', optimizer=optimizer, metrics=['accuracy'])\n",
    "\n",
    "model_2.summary()\n"
   ]
  },
  {
   "cell_type": "code",
   "execution_count": 27,
   "id": "cc34dbb4",
   "metadata": {},
   "outputs": [],
   "source": [
    "train_datagen = ImageDataGenerator(rotation_range=40, width_shift_range=0.2, height_shift_range=0.2,\n",
    "                             shear_range=0.2, zoom_range=0.2, horizontal_flip=True, fill_mode='nearest')\n",
    "\n",
    "train_datagen.fit(X_train)\n",
    "\n",
    "val_datagen = ImageDataGenerator()\n",
    "val_datagen.fit(X_val)"
   ]
  },
  {
   "cell_type": "code",
   "execution_count": 28,
   "id": "7f03e5fc",
   "metadata": {},
   "outputs": [],
   "source": [
    "learning_rate_reduction = ReduceLROnPlateau(monitor='val_acc', patience=3, verbose=1, factor=0.5, min_lr=0.00001)"
   ]
  },
  {
   "cell_type": "code",
   "execution_count": 29,
   "id": "b5155598",
   "metadata": {},
   "outputs": [
    {
     "name": "stderr",
     "output_type": "stream",
     "text": [
      "C:\\Users\\DELL\\AppData\\Local\\Temp/ipykernel_13128/3666111815.py:3: UserWarning: `Model.fit_generator` is deprecated and will be removed in a future version. Please use `Model.fit`, which supports generators.\n",
      "  history = model.fit_generator(train_datagen.flow(X_train,y_train, batch_size=batch_size),\n"
     ]
    },
    {
     "name": "stdout",
     "output_type": "stream",
     "text": [
      "Epoch 1/30\n",
      "184/184 [==============================] - ETA: 0s - loss: 1.8121 - accuracy: 0.3412WARNING:tensorflow:Learning rate reduction is conditioned on metric `val_acc` which is not available. Available metrics are: loss,accuracy,val_loss,val_accuracy,lr\n",
      "184/184 [==============================] - 211s 789ms/step - loss: 1.8121 - accuracy: 0.3412 - val_loss: 1.6735 - val_accuracy: 0.3945 - lr: 0.0010\n",
      "Epoch 2/30\n",
      "184/184 [==============================] - ETA: 0s - loss: 1.7541 - accuracy: 0.3610WARNING:tensorflow:Learning rate reduction is conditioned on metric `val_acc` which is not available. Available metrics are: loss,accuracy,val_loss,val_accuracy,lr\n",
      "184/184 [==============================] - 156s 847ms/step - loss: 1.7541 - accuracy: 0.3610 - val_loss: 1.6909 - val_accuracy: 0.3844 - lr: 0.0010\n",
      "Epoch 3/30\n",
      "184/184 [==============================] - ETA: 0s - loss: 1.7266 - accuracy: 0.3756WARNING:tensorflow:Learning rate reduction is conditioned on metric `val_acc` which is not available. Available metrics are: loss,accuracy,val_loss,val_accuracy,lr\n",
      "184/184 [==============================] - 153s 831ms/step - loss: 1.7266 - accuracy: 0.3756 - val_loss: 1.6693 - val_accuracy: 0.3881 - lr: 0.0010\n",
      "Epoch 4/30\n",
      "184/184 [==============================] - ETA: 0s - loss: 1.7167 - accuracy: 0.3817WARNING:tensorflow:Learning rate reduction is conditioned on metric `val_acc` which is not available. Available metrics are: loss,accuracy,val_loss,val_accuracy,lr\n",
      "184/184 [==============================] - 153s 831ms/step - loss: 1.7167 - accuracy: 0.3817 - val_loss: 1.6057 - val_accuracy: 0.4118 - lr: 0.0010\n",
      "Epoch 5/30\n",
      "184/184 [==============================] - ETA: 0s - loss: 1.7073 - accuracy: 0.3835WARNING:tensorflow:Learning rate reduction is conditioned on metric `val_acc` which is not available. Available metrics are: loss,accuracy,val_loss,val_accuracy,lr\n",
      "184/184 [==============================] - 163s 884ms/step - loss: 1.7073 - accuracy: 0.3835 - val_loss: 1.6001 - val_accuracy: 0.4222 - lr: 0.0010\n",
      "Epoch 6/30\n",
      "184/184 [==============================] - ETA: 0s - loss: 1.6838 - accuracy: 0.3909WARNING:tensorflow:Learning rate reduction is conditioned on metric `val_acc` which is not available. Available metrics are: loss,accuracy,val_loss,val_accuracy,lr\n",
      "184/184 [==============================] - 183s 998ms/step - loss: 1.6838 - accuracy: 0.3909 - val_loss: 1.6424 - val_accuracy: 0.4124 - lr: 0.0010\n",
      "Epoch 7/30\n",
      "184/184 [==============================] - ETA: 0s - loss: 1.6848 - accuracy: 0.3951WARNING:tensorflow:Learning rate reduction is conditioned on metric `val_acc` which is not available. Available metrics are: loss,accuracy,val_loss,val_accuracy,lr\n",
      "184/184 [==============================] - 171s 929ms/step - loss: 1.6848 - accuracy: 0.3951 - val_loss: 1.5886 - val_accuracy: 0.4239 - lr: 0.0010\n",
      "Epoch 8/30\n",
      "184/184 [==============================] - ETA: 0s - loss: 1.6746 - accuracy: 0.3958WARNING:tensorflow:Learning rate reduction is conditioned on metric `val_acc` which is not available. Available metrics are: loss,accuracy,val_loss,val_accuracy,lr\n",
      "184/184 [==============================] - 163s 884ms/step - loss: 1.6746 - accuracy: 0.3958 - val_loss: 1.6842 - val_accuracy: 0.4020 - lr: 0.0010\n",
      "Epoch 9/30\n",
      "184/184 [==============================] - ETA: 0s - loss: 1.6723 - accuracy: 0.3960WARNING:tensorflow:Learning rate reduction is conditioned on metric `val_acc` which is not available. Available metrics are: loss,accuracy,val_loss,val_accuracy,lr\n",
      "184/184 [==============================] - 158s 861ms/step - loss: 1.6723 - accuracy: 0.3960 - val_loss: 1.6493 - val_accuracy: 0.3986 - lr: 0.0010\n",
      "Epoch 10/30\n",
      "184/184 [==============================] - ETA: 0s - loss: 1.6699 - accuracy: 0.4004WARNING:tensorflow:Learning rate reduction is conditioned on metric `val_acc` which is not available. Available metrics are: loss,accuracy,val_loss,val_accuracy,lr\n",
      "184/184 [==============================] - 160s 869ms/step - loss: 1.6699 - accuracy: 0.4004 - val_loss: 1.6089 - val_accuracy: 0.4165 - lr: 0.0010\n",
      "Epoch 11/30\n",
      "184/184 [==============================] - ETA: 0s - loss: 1.6582 - accuracy: 0.4048WARNING:tensorflow:Learning rate reduction is conditioned on metric `val_acc` which is not available. Available metrics are: loss,accuracy,val_loss,val_accuracy,lr\n",
      "184/184 [==============================] - 160s 870ms/step - loss: 1.6582 - accuracy: 0.4048 - val_loss: 1.6731 - val_accuracy: 0.4006 - lr: 0.0010\n",
      "Epoch 12/30\n",
      "184/184 [==============================] - ETA: 0s - loss: 1.6440 - accuracy: 0.4060WARNING:tensorflow:Learning rate reduction is conditioned on metric `val_acc` which is not available. Available metrics are: loss,accuracy,val_loss,val_accuracy,lr\n",
      "184/184 [==============================] - 156s 850ms/step - loss: 1.6440 - accuracy: 0.4060 - val_loss: 1.6413 - val_accuracy: 0.4077 - lr: 0.0010\n",
      "Epoch 13/30\n",
      "184/184 [==============================] - ETA: 0s - loss: 1.6513 - accuracy: 0.4014WARNING:tensorflow:Learning rate reduction is conditioned on metric `val_acc` which is not available. Available metrics are: loss,accuracy,val_loss,val_accuracy,lr\n",
      "184/184 [==============================] - 158s 857ms/step - loss: 1.6513 - accuracy: 0.4014 - val_loss: 1.6004 - val_accuracy: 0.4287 - lr: 0.0010\n",
      "Epoch 14/30\n",
      "184/184 [==============================] - ETA: 0s - loss: 1.6410 - accuracy: 0.4127WARNING:tensorflow:Learning rate reduction is conditioned on metric `val_acc` which is not available. Available metrics are: loss,accuracy,val_loss,val_accuracy,lr\n",
      "184/184 [==============================] - 157s 851ms/step - loss: 1.6410 - accuracy: 0.4127 - val_loss: 1.7005 - val_accuracy: 0.4009 - lr: 0.0010\n",
      "Epoch 15/30\n",
      "184/184 [==============================] - ETA: 0s - loss: 1.6343 - accuracy: 0.4129WARNING:tensorflow:Learning rate reduction is conditioned on metric `val_acc` which is not available. Available metrics are: loss,accuracy,val_loss,val_accuracy,lr\n",
      "184/184 [==============================] - 198s 1s/step - loss: 1.6343 - accuracy: 0.4129 - val_loss: 1.6356 - val_accuracy: 0.4131 - lr: 0.0010\n",
      "Epoch 16/30\n",
      "184/184 [==============================] - ETA: 0s - loss: 1.6366 - accuracy: 0.4161WARNING:tensorflow:Learning rate reduction is conditioned on metric `val_acc` which is not available. Available metrics are: loss,accuracy,val_loss,val_accuracy,lr\n",
      "184/184 [==============================] - 205s 1s/step - loss: 1.6366 - accuracy: 0.4161 - val_loss: 1.6517 - val_accuracy: 0.4131 - lr: 0.0010\n",
      "Epoch 17/30\n",
      "184/184 [==============================] - ETA: 0s - loss: 1.6287 - accuracy: 0.4175WARNING:tensorflow:Learning rate reduction is conditioned on metric `val_acc` which is not available. Available metrics are: loss,accuracy,val_loss,val_accuracy,lr\n",
      "184/184 [==============================] - 210s 1s/step - loss: 1.6287 - accuracy: 0.4175 - val_loss: 1.6200 - val_accuracy: 0.4202 - lr: 0.0010\n",
      "Epoch 18/30\n",
      "184/184 [==============================] - ETA: 0s - loss: 1.6189 - accuracy: 0.4161WARNING:tensorflow:Learning rate reduction is conditioned on metric `val_acc` which is not available. Available metrics are: loss,accuracy,val_loss,val_accuracy,lr\n",
      "184/184 [==============================] - 206s 1s/step - loss: 1.6189 - accuracy: 0.4161 - val_loss: 1.5720 - val_accuracy: 0.4300 - lr: 0.0010\n",
      "Epoch 19/30\n",
      "184/184 [==============================] - ETA: 0s - loss: 1.6211 - accuracy: 0.4190WARNING:tensorflow:Learning rate reduction is conditioned on metric `val_acc` which is not available. Available metrics are: loss,accuracy,val_loss,val_accuracy,lr\n",
      "184/184 [==============================] - 210s 1s/step - loss: 1.6211 - accuracy: 0.4190 - val_loss: 1.7046 - val_accuracy: 0.4040 - lr: 0.0010\n",
      "Epoch 20/30\n",
      "184/184 [==============================] - ETA: 0s - loss: 1.6163 - accuracy: 0.4227WARNING:tensorflow:Learning rate reduction is conditioned on metric `val_acc` which is not available. Available metrics are: loss,accuracy,val_loss,val_accuracy,lr\n",
      "184/184 [==============================] - 212s 1s/step - loss: 1.6163 - accuracy: 0.4227 - val_loss: 1.5855 - val_accuracy: 0.4202 - lr: 0.0010\n",
      "Epoch 21/30\n"
     ]
    },
    {
     "name": "stdout",
     "output_type": "stream",
     "text": [
      "184/184 [==============================] - ETA: 0s - loss: 1.6142 - accuracy: 0.4204WARNING:tensorflow:Learning rate reduction is conditioned on metric `val_acc` which is not available. Available metrics are: loss,accuracy,val_loss,val_accuracy,lr\n",
      "184/184 [==============================] - 206s 1s/step - loss: 1.6142 - accuracy: 0.4204 - val_loss: 1.6087 - val_accuracy: 0.4324 - lr: 0.0010\n",
      "Epoch 22/30\n",
      "184/184 [==============================] - ETA: 0s - loss: 1.6099 - accuracy: 0.4202WARNING:tensorflow:Learning rate reduction is conditioned on metric `val_acc` which is not available. Available metrics are: loss,accuracy,val_loss,val_accuracy,lr\n",
      "184/184 [==============================] - 206s 1s/step - loss: 1.6099 - accuracy: 0.4202 - val_loss: 1.5751 - val_accuracy: 0.4344 - lr: 0.0010\n",
      "Epoch 23/30\n",
      "184/184 [==============================] - ETA: 0s - loss: 1.5995 - accuracy: 0.4273WARNING:tensorflow:Learning rate reduction is conditioned on metric `val_acc` which is not available. Available metrics are: loss,accuracy,val_loss,val_accuracy,lr\n",
      "184/184 [==============================] - 204s 1s/step - loss: 1.5995 - accuracy: 0.4273 - val_loss: 1.6090 - val_accuracy: 0.4253 - lr: 0.0010\n",
      "Epoch 24/30\n",
      "184/184 [==============================] - ETA: 0s - loss: 1.5906 - accuracy: 0.4250WARNING:tensorflow:Learning rate reduction is conditioned on metric `val_acc` which is not available. Available metrics are: loss,accuracy,val_loss,val_accuracy,lr\n",
      "184/184 [==============================] - 202s 1s/step - loss: 1.5906 - accuracy: 0.4250 - val_loss: 1.5523 - val_accuracy: 0.4408 - lr: 0.0010\n",
      "Epoch 25/30\n",
      "184/184 [==============================] - ETA: 0s - loss: 1.5954 - accuracy: 0.4289WARNING:tensorflow:Learning rate reduction is conditioned on metric `val_acc` which is not available. Available metrics are: loss,accuracy,val_loss,val_accuracy,lr\n",
      "184/184 [==============================] - 204s 1s/step - loss: 1.5954 - accuracy: 0.4289 - val_loss: 1.6362 - val_accuracy: 0.4236 - lr: 0.0010\n",
      "Epoch 26/30\n",
      "184/184 [==============================] - ETA: 0s - loss: 1.5996 - accuracy: 0.4286WARNING:tensorflow:Learning rate reduction is conditioned on metric `val_acc` which is not available. Available metrics are: loss,accuracy,val_loss,val_accuracy,lr\n",
      "184/184 [==============================] - 205s 1s/step - loss: 1.5996 - accuracy: 0.4286 - val_loss: 1.6140 - val_accuracy: 0.4162 - lr: 0.0010\n",
      "Epoch 27/30\n",
      "184/184 [==============================] - ETA: 0s - loss: 1.5802 - accuracy: 0.4306WARNING:tensorflow:Learning rate reduction is conditioned on metric `val_acc` which is not available. Available metrics are: loss,accuracy,val_loss,val_accuracy,lr\n",
      "184/184 [==============================] - 206s 1s/step - loss: 1.5802 - accuracy: 0.4306 - val_loss: 1.5971 - val_accuracy: 0.4283 - lr: 0.0010\n",
      "Epoch 28/30\n",
      "184/184 [==============================] - ETA: 0s - loss: 1.5766 - accuracy: 0.4352WARNING:tensorflow:Learning rate reduction is conditioned on metric `val_acc` which is not available. Available metrics are: loss,accuracy,val_loss,val_accuracy,lr\n",
      "184/184 [==============================] - 205s 1s/step - loss: 1.5766 - accuracy: 0.4352 - val_loss: 1.5674 - val_accuracy: 0.4385 - lr: 0.0010\n",
      "Epoch 29/30\n",
      "184/184 [==============================] - ETA: 0s - loss: 1.5750 - accuracy: 0.4293WARNING:tensorflow:Learning rate reduction is conditioned on metric `val_acc` which is not available. Available metrics are: loss,accuracy,val_loss,val_accuracy,lr\n",
      "184/184 [==============================] - 206s 1s/step - loss: 1.5750 - accuracy: 0.4293 - val_loss: 1.5548 - val_accuracy: 0.4473 - lr: 0.0010\n",
      "Epoch 30/30\n",
      "184/184 [==============================] - ETA: 0s - loss: 1.5803 - accuracy: 0.4280WARNING:tensorflow:Learning rate reduction is conditioned on metric `val_acc` which is not available. Available metrics are: loss,accuracy,val_loss,val_accuracy,lr\n",
      "184/184 [==============================] - 205s 1s/step - loss: 1.5803 - accuracy: 0.4280 - val_loss: 1.6991 - val_accuracy: 0.4151 - lr: 0.0010\n"
     ]
    }
   ],
   "source": [
    "batch_size = 64\n",
    "epochs = 30\n",
    "history = model.fit_generator(train_datagen.flow(X_train,y_train, batch_size=batch_size),\n",
    "                              epochs = epochs, validation_data = val_datagen.flow(X_val, y_val),\n",
    "                              verbose = 1, steps_per_epoch=(X_train.shape[0] // batch_size),\n",
    "                              callbacks=[learning_rate_reduction])"
   ]
  },
  {
   "cell_type": "code",
   "execution_count": 30,
   "id": "86be0b20",
   "metadata": {},
   "outputs": [
    {
     "name": "stdout",
     "output_type": "stream",
     "text": [
      "52/52 [==============================] - 8s 140ms/step - loss: 1.6897 - accuracy: 0.4337\n",
      "93/93 [==============================] - 13s 136ms/step - loss: 1.6991 - accuracy: 0.4151\n",
      "Validation: accuracy = 0.415145  ;  loss_v = 1.699134\n",
      "Test: accuracy = 0.433698  ;  loss = 1.689691\n"
     ]
    }
   ],
   "source": [
    "loss_test, acc_test = model.evaluate(X_test, y_test, verbose=1)\n",
    "loss_val, acc_val = model.evaluate(X_val, y_val, verbose=1)\n",
    "print(\"Validation: accuracy = %f  ;  loss_v = %f\" % (acc_val, loss_val))\n",
    "print(\"Test: accuracy = %f  ;  loss = %f\" % (acc_test, loss_test))\n",
    "model.save(\"Baseline_model_2.h5\")"
   ]
  },
  {
   "cell_type": "code",
   "execution_count": 32,
   "id": "8421adba",
   "metadata": {},
   "outputs": [
    {
     "data": {
      "text/plain": [
       "Text(0.5, 1.0, 'Training and validation loss')"
      ]
     },
     "execution_count": 32,
     "metadata": {},
     "output_type": "execute_result"
    },
    {
     "data": {
      "image/png": "[encoded data removed]",
      "text/plain": [
       "<Figure size 432x288 with 1 Axes>"
      ]
     },
     "metadata": {
      "needs_background": "light"
     },
     "output_type": "display_data"
    },
    {
     "data": {
      "image/png": "[encoded data removed]",
      "text/plain": [
       "<Figure size 432x288 with 1 Axes>"
      ]
     },
     "metadata": {
      "needs_background": "light"
     },
     "output_type": "display_data"
    }
   ],
   "source": [
    "# Retrieve a list of accuracy results on training and test data\n",
    "# sets for each training epoch\n",
    "acc = history.history['accuracy']\n",
    "val_acc = history.history['val_accuracy']\n",
    "\n",
    "# Retrieve a list of list results on training and test data\n",
    "# sets for each training epoch\n",
    "loss = history.history['loss']\n",
    "val_loss = history.history['val_loss']\n",
    "\n",
    "# Get number of epochs\n",
    "epochs = range(len(acc))\n",
    "\n",
    "# Plot training and validation accuracy per epoch\n",
    "plt.plot(epochs, acc)\n",
    "plt.plot(epochs, val_acc)\n",
    "plt.title('Training and validation accuracy')\n",
    "\n",
    "plt.figure()\n",
    "\n",
    "# Plot training and validation loss per epoch\n",
    "plt.plot(epochs, loss)\n",
    "plt.plot(epochs, val_loss)\n",
    "plt.title('Training and validation loss')"
   ]
  },
  {
   "cell_type": "code",
   "execution_count": null,
   "id": "e5f9792a",
   "metadata": {},
   "outputs": [],
   "source": []
  }
 ],
 "metadata": {
  "kernelspec": {
   "display_name": "Python 3 (ipykernel)",
   "language": "python",
   "name": "python3"
  },
  "language_info": {
   "codemirror_mode": {
    "name": "ipython",
    "version": 3
   },
   "file_extension": ".py",
   "mimetype": "text/x-python",
   "name": "python",
   "nbconvert_exporter": "python",
   "pygments_lexer": "ipython3",
   "version": "3.9.7"
  }
 },
 "nbformat": 4,
 "nbformat_minor": 5
}
